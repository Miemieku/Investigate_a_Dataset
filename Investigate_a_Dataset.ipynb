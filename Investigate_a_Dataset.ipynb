{
 "cells": [
  {
   "cell_type": "markdown",
   "metadata": {},
   "source": [
    "\n",
    "# Project: Investigate a Dataset (TMDB movies dataset)\n",
    "\n",
    "## Table of Contents\n",
    "<ul>\n",
    "<li><a href=\"#intro\">Introduction</a></li>\n",
    "<li><a href=\"#wrangling\">Data Wrangling</a></li>\n",
    "<li><a href=\"#eda\">Exploratory Data Analysis</a></li>\n",
    "<li><a href=\"#conclusions\">Conclusions</a></li>\n",
    "</ul>"
   ]
  },
  {
   "cell_type": "markdown",
   "metadata": {},
   "source": [
    "<a id='intro'></a>\n",
    "## Introduction\n",
    "This data set contains information about 10,000 movies collected from The Movie Database (TMDb), including user ratings and revenue.The data also contains informations like popularity, cast, runtime, genres etc.\n",
    "\n",
    "Based on this data, the following questions will be answered in this project:\n",
    "\n",
    "1. Which genres of movies are most frequent overall?\n",
    "2. Which are the top ten directors with more than six movies in terms of average rating?\n",
    "3. Is there a positive correlation between \"popularity\" and \"vote_average\"?\n",
    "4. What is the year-by-year trend of movie profits?\n",
    "5. Which month has the highest average revenue?"
   ]
  },
  {
   "cell_type": "code",
   "execution_count": 1,
   "metadata": {},
   "outputs": [],
   "source": [
    "# Use this cell to set up import statements for all of the packages that you plan to use.\n",
    "import pandas as pd \n",
    "import numpy as np\n",
    "import matplotlib.pyplot as plt\n",
    "from matplotlib import cm\n",
    "import seaborn as sns\n",
    "%matplotlib inline"
   ]
  },
  {
   "cell_type": "markdown",
   "metadata": {},
   "source": [
    "<a id='wrangling'></a>\n",
    "## Data Wrangling\n",
    "\n",
    "In this section of the report, i will load in the data, check for cleanliness, and then trim and clean my dataset for analysis.\n",
    "\n",
    "### General Properties"
   ]
  },
  {
   "cell_type": "code",
   "execution_count": 2,
   "metadata": {},
   "outputs": [],
   "source": [
    "# Load the data and print out a few lines. Perform operations to inspect data types \n",
    "# and look for instances of missing or possibly errant data.\n",
    "df = pd.read_csv(\"tmdb-movies.csv\")"
   ]
  },
  {
   "cell_type": "code",
   "execution_count": 3,
   "metadata": {},
   "outputs": [
    {
     "data": {
      "text/html": [
       "<div>\n",
       "<style scoped>\n",
       "    .dataframe tbody tr th:only-of-type {\n",
       "        vertical-align: middle;\n",
       "    }\n",
       "\n",
       "    .dataframe tbody tr th {\n",
       "        vertical-align: top;\n",
       "    }\n",
       "\n",
       "    .dataframe thead th {\n",
       "        text-align: right;\n",
       "    }\n",
       "</style>\n",
       "<table border=\"1\" class=\"dataframe\">\n",
       "  <thead>\n",
       "    <tr style=\"text-align: right;\">\n",
       "      <th></th>\n",
       "      <th>id</th>\n",
       "      <th>imdb_id</th>\n",
       "      <th>popularity</th>\n",
       "      <th>budget</th>\n",
       "      <th>revenue</th>\n",
       "      <th>original_title</th>\n",
       "      <th>cast</th>\n",
       "      <th>homepage</th>\n",
       "      <th>director</th>\n",
       "      <th>tagline</th>\n",
       "      <th>...</th>\n",
       "      <th>overview</th>\n",
       "      <th>runtime</th>\n",
       "      <th>genres</th>\n",
       "      <th>production_companies</th>\n",
       "      <th>release_date</th>\n",
       "      <th>vote_count</th>\n",
       "      <th>vote_average</th>\n",
       "      <th>release_year</th>\n",
       "      <th>budget_adj</th>\n",
       "      <th>revenue_adj</th>\n",
       "    </tr>\n",
       "  </thead>\n",
       "  <tbody>\n",
       "    <tr>\n",
       "      <th>0</th>\n",
       "      <td>135397</td>\n",
       "      <td>tt0369610</td>\n",
       "      <td>32.985763</td>\n",
       "      <td>150000000</td>\n",
       "      <td>1513528810</td>\n",
       "      <td>Jurassic World</td>\n",
       "      <td>Chris Pratt|Bryce Dallas Howard|Irrfan Khan|Vi...</td>\n",
       "      <td>http://www.jurassicworld.com/</td>\n",
       "      <td>Colin Trevorrow</td>\n",
       "      <td>The park is open.</td>\n",
       "      <td>...</td>\n",
       "      <td>Twenty-two years after the events of Jurassic ...</td>\n",
       "      <td>124</td>\n",
       "      <td>Action|Adventure|Science Fiction|Thriller</td>\n",
       "      <td>Universal Studios|Amblin Entertainment|Legenda...</td>\n",
       "      <td>6/9/15</td>\n",
       "      <td>5562</td>\n",
       "      <td>6.5</td>\n",
       "      <td>2015</td>\n",
       "      <td>1.379999e+08</td>\n",
       "      <td>1.392446e+09</td>\n",
       "    </tr>\n",
       "  </tbody>\n",
       "</table>\n",
       "<p>1 rows × 21 columns</p>\n",
       "</div>"
      ],
      "text/plain": [
       "       id    imdb_id  popularity     budget     revenue  original_title  \\\n",
       "0  135397  tt0369610   32.985763  150000000  1513528810  Jurassic World   \n",
       "\n",
       "                                                cast  \\\n",
       "0  Chris Pratt|Bryce Dallas Howard|Irrfan Khan|Vi...   \n",
       "\n",
       "                        homepage         director            tagline  ...  \\\n",
       "0  http://www.jurassicworld.com/  Colin Trevorrow  The park is open.  ...   \n",
       "\n",
       "                                            overview runtime  \\\n",
       "0  Twenty-two years after the events of Jurassic ...     124   \n",
       "\n",
       "                                      genres  \\\n",
       "0  Action|Adventure|Science Fiction|Thriller   \n",
       "\n",
       "                                production_companies release_date vote_count  \\\n",
       "0  Universal Studios|Amblin Entertainment|Legenda...       6/9/15       5562   \n",
       "\n",
       "   vote_average  release_year    budget_adj   revenue_adj  \n",
       "0           6.5          2015  1.379999e+08  1.392446e+09  \n",
       "\n",
       "[1 rows x 21 columns]"
      ]
     },
     "execution_count": 3,
     "metadata": {},
     "output_type": "execute_result"
    }
   ],
   "source": [
    "# view dataset\n",
    "df.head(1)"
   ]
  },
  {
   "cell_type": "markdown",
   "metadata": {},
   "source": [
    "In a quick glance at the data, we can see the values in the cast, genres and production_companies columns, each of which contains multiple values separated by the \"|\".\n"
   ]
  },
  {
   "cell_type": "code",
   "execution_count": 4,
   "metadata": {},
   "outputs": [
    {
     "data": {
      "text/plain": [
       "(10866, 21)"
      ]
     },
     "execution_count": 4,
     "metadata": {},
     "output_type": "execute_result"
    }
   ],
   "source": [
    "df.shape"
   ]
  },
  {
   "cell_type": "code",
   "execution_count": 5,
   "metadata": {},
   "outputs": [
    {
     "name": "stdout",
     "output_type": "stream",
     "text": [
      "<class 'pandas.core.frame.DataFrame'>\n",
      "RangeIndex: 10866 entries, 0 to 10865\n",
      "Data columns (total 21 columns):\n",
      " #   Column                Non-Null Count  Dtype  \n",
      "---  ------                --------------  -----  \n",
      " 0   id                    10866 non-null  int64  \n",
      " 1   imdb_id               10856 non-null  object \n",
      " 2   popularity            10866 non-null  float64\n",
      " 3   budget                10866 non-null  int64  \n",
      " 4   revenue               10866 non-null  int64  \n",
      " 5   original_title        10866 non-null  object \n",
      " 6   cast                  10790 non-null  object \n",
      " 7   homepage              2936 non-null   object \n",
      " 8   director              10822 non-null  object \n",
      " 9   tagline               8042 non-null   object \n",
      " 10  keywords              9373 non-null   object \n",
      " 11  overview              10862 non-null  object \n",
      " 12  runtime               10866 non-null  int64  \n",
      " 13  genres                10843 non-null  object \n",
      " 14  production_companies  9836 non-null   object \n",
      " 15  release_date          10866 non-null  object \n",
      " 16  vote_count            10866 non-null  int64  \n",
      " 17  vote_average          10866 non-null  float64\n",
      " 18  release_year          10866 non-null  int64  \n",
      " 19  budget_adj            10866 non-null  float64\n",
      " 20  revenue_adj           10866 non-null  float64\n",
      "dtypes: float64(4), int64(6), object(11)\n",
      "memory usage: 1.7+ MB\n"
     ]
    }
   ],
   "source": [
    "df.info()"
   ]
  },
  {
   "cell_type": "markdown",
   "metadata": {},
   "source": [
    "The info() function allows us to view information about the data, and we can see that some data are missing, such as columns cast, homepage, director, tagline and some data types also need to be improved."
   ]
  },
  {
   "cell_type": "markdown",
   "metadata": {},
   "source": [
    "### Data Cleaning\n",
    "After discussing the structure of the data and any problems that need to be\n",
    "cleaned, perform those cleaning steps in the second part of this section.\n",
    "\n",
    "1. First I will delete the columns that are not relevant to the issues discussed in this project.\n",
    "2. Then I will check if there are null values and delete those rows. I will also check if there are any values of 0 in the budget_adj and revenue_adj columns.\n",
    "3. Then I will see if there is a duplicate item and delete it.\n",
    "4. Finally I will fix some column types."
   ]
  },
  {
   "cell_type": "markdown",
   "metadata": {},
   "source": [
    "#### Drop Extraneous Columns"
   ]
  },
  {
   "cell_type": "code",
   "execution_count": 6,
   "metadata": {},
   "outputs": [],
   "source": [
    "# Some columns are not used in my project, so I will remove them.\n",
    "# drop columns from dataset\n",
    "df.drop([\"id\",\"imdb_id\",\"cast\",\"homepage\",\"tagline\",\"keywords\",\"overview\",\"production_companies\",\"vote_count\"], axis=1, inplace=True)"
   ]
  },
  {
   "cell_type": "code",
   "execution_count": 7,
   "metadata": {},
   "outputs": [
    {
     "data": {
      "text/html": [
       "<div>\n",
       "<style scoped>\n",
       "    .dataframe tbody tr th:only-of-type {\n",
       "        vertical-align: middle;\n",
       "    }\n",
       "\n",
       "    .dataframe tbody tr th {\n",
       "        vertical-align: top;\n",
       "    }\n",
       "\n",
       "    .dataframe thead th {\n",
       "        text-align: right;\n",
       "    }\n",
       "</style>\n",
       "<table border=\"1\" class=\"dataframe\">\n",
       "  <thead>\n",
       "    <tr style=\"text-align: right;\">\n",
       "      <th></th>\n",
       "      <th>popularity</th>\n",
       "      <th>budget</th>\n",
       "      <th>revenue</th>\n",
       "      <th>original_title</th>\n",
       "      <th>director</th>\n",
       "      <th>runtime</th>\n",
       "      <th>genres</th>\n",
       "      <th>release_date</th>\n",
       "      <th>vote_average</th>\n",
       "      <th>release_year</th>\n",
       "      <th>budget_adj</th>\n",
       "      <th>revenue_adj</th>\n",
       "    </tr>\n",
       "  </thead>\n",
       "  <tbody>\n",
       "    <tr>\n",
       "      <th>0</th>\n",
       "      <td>32.985763</td>\n",
       "      <td>150000000</td>\n",
       "      <td>1513528810</td>\n",
       "      <td>Jurassic World</td>\n",
       "      <td>Colin Trevorrow</td>\n",
       "      <td>124</td>\n",
       "      <td>Action|Adventure|Science Fiction|Thriller</td>\n",
       "      <td>6/9/15</td>\n",
       "      <td>6.5</td>\n",
       "      <td>2015</td>\n",
       "      <td>1.379999e+08</td>\n",
       "      <td>1.392446e+09</td>\n",
       "    </tr>\n",
       "  </tbody>\n",
       "</table>\n",
       "</div>"
      ],
      "text/plain": [
       "   popularity     budget     revenue  original_title         director  \\\n",
       "0   32.985763  150000000  1513528810  Jurassic World  Colin Trevorrow   \n",
       "\n",
       "   runtime                                     genres release_date  \\\n",
       "0      124  Action|Adventure|Science Fiction|Thriller       6/9/15   \n",
       "\n",
       "   vote_average  release_year    budget_adj   revenue_adj  \n",
       "0           6.5          2015  1.379999e+08  1.392446e+09  "
      ]
     },
     "execution_count": 7,
     "metadata": {},
     "output_type": "execute_result"
    }
   ],
   "source": [
    "# confirm changes\n",
    "df.head(1)"
   ]
  },
  {
   "cell_type": "markdown",
   "metadata": {},
   "source": [
    "#### Drop Rows with Missing Values"
   ]
  },
  {
   "cell_type": "code",
   "execution_count": 8,
   "metadata": {},
   "outputs": [
    {
     "data": {
      "text/plain": [
       "popularity         0\n",
       "budget             0\n",
       "revenue            0\n",
       "original_title     0\n",
       "director          44\n",
       "runtime            0\n",
       "genres            23\n",
       "release_date       0\n",
       "vote_average       0\n",
       "release_year       0\n",
       "budget_adj         0\n",
       "revenue_adj        0\n",
       "dtype: int64"
      ]
     },
     "execution_count": 8,
     "metadata": {},
     "output_type": "execute_result"
    }
   ],
   "source": [
    "# view missing value count for each feature\n",
    "df.isnull().sum()"
   ]
  },
  {
   "cell_type": "code",
   "execution_count": 9,
   "metadata": {},
   "outputs": [],
   "source": [
    "# drop rows with any null values in dataset\n",
    "df.dropna(inplace=True)"
   ]
  },
  {
   "cell_type": "code",
   "execution_count": 10,
   "metadata": {},
   "outputs": [
    {
     "data": {
      "text/plain": [
       "False"
      ]
     },
     "execution_count": 10,
     "metadata": {},
     "output_type": "execute_result"
    }
   ],
   "source": [
    "# checks if any of columns in dataset have null values - should print False\n",
    "df.isnull().sum().any()"
   ]
  },
  {
   "cell_type": "markdown",
   "metadata": {},
   "source": [
    "#### Drop Rows with 0 Values"
   ]
  },
  {
   "cell_type": "code",
   "execution_count": 11,
   "metadata": {},
   "outputs": [
    {
     "data": {
      "text/html": [
       "<div>\n",
       "<style scoped>\n",
       "    .dataframe tbody tr th:only-of-type {\n",
       "        vertical-align: middle;\n",
       "    }\n",
       "\n",
       "    .dataframe tbody tr th {\n",
       "        vertical-align: top;\n",
       "    }\n",
       "\n",
       "    .dataframe thead th {\n",
       "        text-align: right;\n",
       "    }\n",
       "</style>\n",
       "<table border=\"1\" class=\"dataframe\">\n",
       "  <thead>\n",
       "    <tr style=\"text-align: right;\">\n",
       "      <th></th>\n",
       "      <th>budget_adj</th>\n",
       "      <th>revenue_adj</th>\n",
       "    </tr>\n",
       "  </thead>\n",
       "  <tbody>\n",
       "    <tr>\n",
       "      <th>count</th>\n",
       "      <td>1.080100e+04</td>\n",
       "      <td>1.080100e+04</td>\n",
       "    </tr>\n",
       "    <tr>\n",
       "      <th>mean</th>\n",
       "      <td>1.765551e+07</td>\n",
       "      <td>5.167244e+07</td>\n",
       "    </tr>\n",
       "    <tr>\n",
       "      <th>std</th>\n",
       "      <td>3.438265e+07</td>\n",
       "      <td>1.450123e+08</td>\n",
       "    </tr>\n",
       "    <tr>\n",
       "      <th>min</th>\n",
       "      <td>0.000000e+00</td>\n",
       "      <td>0.000000e+00</td>\n",
       "    </tr>\n",
       "    <tr>\n",
       "      <th>25%</th>\n",
       "      <td>0.000000e+00</td>\n",
       "      <td>0.000000e+00</td>\n",
       "    </tr>\n",
       "    <tr>\n",
       "      <th>50%</th>\n",
       "      <td>0.000000e+00</td>\n",
       "      <td>0.000000e+00</td>\n",
       "    </tr>\n",
       "    <tr>\n",
       "      <th>75%</th>\n",
       "      <td>2.103337e+07</td>\n",
       "      <td>3.408478e+07</td>\n",
       "    </tr>\n",
       "    <tr>\n",
       "      <th>max</th>\n",
       "      <td>4.250000e+08</td>\n",
       "      <td>2.827124e+09</td>\n",
       "    </tr>\n",
       "  </tbody>\n",
       "</table>\n",
       "</div>"
      ],
      "text/plain": [
       "         budget_adj   revenue_adj\n",
       "count  1.080100e+04  1.080100e+04\n",
       "mean   1.765551e+07  5.167244e+07\n",
       "std    3.438265e+07  1.450123e+08\n",
       "min    0.000000e+00  0.000000e+00\n",
       "25%    0.000000e+00  0.000000e+00\n",
       "50%    0.000000e+00  0.000000e+00\n",
       "75%    2.103337e+07  3.408478e+07\n",
       "max    4.250000e+08  2.827124e+09"
      ]
     },
     "execution_count": 11,
     "metadata": {},
     "output_type": "execute_result"
    }
   ],
   "source": [
    "#statistical details about \"budget_adj\" and \"revenue_adj\" columns\n",
    "df[['budget_adj','revenue_adj']].describe()"
   ]
  },
  {
   "cell_type": "code",
   "execution_count": 12,
   "metadata": {},
   "outputs": [
    {
     "data": {
      "text/plain": [
       "(6947, 12)"
      ]
     },
     "execution_count": 12,
     "metadata": {},
     "output_type": "execute_result"
    }
   ],
   "source": [
    "# check if there is any data where the values of the \"budget_adj\" and \"revenue_adj\" columns are both zero\n",
    "df[(df['revenue_adj'] == 0) | (df['budget_adj']== 0)].shape"
   ]
  },
  {
   "cell_type": "code",
   "execution_count": 13,
   "metadata": {},
   "outputs": [],
   "source": [
    "# drop the data where the values of the \"budget_adj\" and \"revenue_adj\" columns are both zero\n",
    "df.drop(df[(df['revenue_adj'] == 0) | (df['budget_adj']== 0)].index,inplace=True)"
   ]
  },
  {
   "cell_type": "code",
   "execution_count": 14,
   "metadata": {},
   "outputs": [
    {
     "data": {
      "text/plain": [
       "(0, 12)"
      ]
     },
     "execution_count": 14,
     "metadata": {},
     "output_type": "execute_result"
    }
   ],
   "source": [
    "# check if there any data where the values of the \"budget_adj\" and \"revenue_adj\" columns are both zero\n",
    "df[(df['revenue_adj'] == 0) | (df['budget_adj']== 0)].shape"
   ]
  },
  {
   "cell_type": "markdown",
   "metadata": {},
   "source": [
    "#### Dedupe Data"
   ]
  },
  {
   "cell_type": "code",
   "execution_count": 15,
   "metadata": {},
   "outputs": [
    {
     "data": {
      "text/plain": [
       "1"
      ]
     },
     "execution_count": 15,
     "metadata": {},
     "output_type": "execute_result"
    }
   ],
   "source": [
    "#caculating the number of duplicate rows\n",
    "df.duplicated( ).sum()"
   ]
  },
  {
   "cell_type": "code",
   "execution_count": 16,
   "metadata": {},
   "outputs": [],
   "source": [
    "#dropping the duplicate rows\n",
    "df.drop_duplicates(inplace=True)"
   ]
  },
  {
   "cell_type": "code",
   "execution_count": 17,
   "metadata": {},
   "outputs": [
    {
     "data": {
      "text/plain": [
       "0"
      ]
     },
     "execution_count": 17,
     "metadata": {},
     "output_type": "execute_result"
    }
   ],
   "source": [
    "# print number of duplicates again to confirm dedupe - should be 0\n",
    "df.duplicated().sum()"
   ]
  },
  {
   "cell_type": "markdown",
   "metadata": {},
   "source": [
    "#### Fix Data types"
   ]
  },
  {
   "cell_type": "code",
   "execution_count": 18,
   "metadata": {},
   "outputs": [],
   "source": [
    "# convert budget_adj and revenue_adj columns to int\n",
    "df['budget_adj']=df['budget_adj'].astype(int)\n",
    "df['revenue_adj']=df['revenue_adj'].astype(int)\n",
    "df['release_date'] = pd.to_datetime(df['release_date'])"
   ]
  },
  {
   "cell_type": "code",
   "execution_count": 19,
   "metadata": {},
   "outputs": [
    {
     "name": "stdout",
     "output_type": "stream",
     "text": [
      "<class 'pandas.core.frame.DataFrame'>\n",
      "Int64Index: 3853 entries, 0 to 10848\n",
      "Data columns (total 12 columns):\n",
      " #   Column          Non-Null Count  Dtype         \n",
      "---  ------          --------------  -----         \n",
      " 0   popularity      3853 non-null   float64       \n",
      " 1   budget          3853 non-null   int64         \n",
      " 2   revenue         3853 non-null   int64         \n",
      " 3   original_title  3853 non-null   object        \n",
      " 4   director        3853 non-null   object        \n",
      " 5   runtime         3853 non-null   int64         \n",
      " 6   genres          3853 non-null   object        \n",
      " 7   release_date    3853 non-null   datetime64[ns]\n",
      " 8   vote_average    3853 non-null   float64       \n",
      " 9   release_year    3853 non-null   int64         \n",
      " 10  budget_adj      3853 non-null   int32         \n",
      " 11  revenue_adj     3853 non-null   int32         \n",
      "dtypes: datetime64[ns](1), float64(2), int32(2), int64(4), object(3)\n",
      "memory usage: 361.2+ KB\n"
     ]
    }
   ],
   "source": [
    "df.info()"
   ]
  },
  {
   "cell_type": "markdown",
   "metadata": {},
   "source": [
    "<a id='eda'></a>\n",
    "## Exploratory Data Analysis\n",
    "\n",
    "### Research Question 1 (Which genres of movies are most frequent overall?)\n",
    "In this part I will count the number of appearances of each type in the genres column.\n"
   ]
  },
  {
   "cell_type": "code",
   "execution_count": 20,
   "metadata": {},
   "outputs": [],
   "source": [
    "# create one copy of the dataframe\n",
    "df_genre = df.copy()\n",
    "\n",
    "# merge all the rows of the genres column with the \n",
    "# cat function (the concatenated objects are characters \"|\"), \n",
    "# then split them with the split function, and create a Series\n",
    "genre_total = pd.Series(df_genre['genres'].str.cat(sep = \"|\").split(\"|\"))"
   ]
  },
  {
   "cell_type": "code",
   "execution_count": 21,
   "metadata": {},
   "outputs": [],
   "source": [
    "# count the number of appearances of genre\n",
    "movie_genre = genre_total.value_counts()"
   ]
  },
  {
   "cell_type": "code",
   "execution_count": 22,
   "metadata": {},
   "outputs": [
    {
     "data": {
      "text/plain": [
       "Drama              1755\n",
       "Comedy             1357\n",
       "Thriller           1204\n",
       "Action             1085\n",
       "Adventure           749\n",
       "Romance             666\n",
       "Crime               651\n",
       "Science Fiction     519\n",
       "Horror              463\n",
       "Family              425\n",
       "Fantasy             396\n",
       "Mystery             344\n",
       "Animation           201\n",
       "Music               136\n",
       "History             129\n",
       "War                 119\n",
       "Western              52\n",
       "Documentary          35\n",
       "Foreign              12\n",
       "TV Movie              1\n",
       "dtype: int64"
      ]
     },
     "execution_count": 22,
     "metadata": {},
     "output_type": "execute_result"
    }
   ],
   "source": [
    "movie_genre"
   ]
  },
  {
   "cell_type": "code",
   "execution_count": 23,
   "metadata": {},
   "outputs": [
    {
     "data": {
      "image/png": "[encoded data removed]",
      "text/plain": [
       "<Figure size 1080x720 with 1 Axes>"
      ]
     },
     "metadata": {
      "needs_background": "light"
     },
     "output_type": "display_data"
    }
   ],
   "source": [
    "plt.figure(figsize=(15, 10))\n",
    "sns.set_style(\"darkgrid\")\n",
    "gen = sns.barplot(x= movie_genre, y= movie_genre.index,orient= \"h\",palette=\"GnBu_r\")\n",
    "gen.set_title(\"Which genres of movies are most frequent overall?\",fontsize=20)\n",
    "plt.xticks(fontsize=15)\n",
    "plt.yticks(fontsize=15)\n",
    "gen.set_xlabel(\"Number of Appearances\",fontsize=15)\n",
    "gen.set_ylabel(\"Genres\",fontsize=15);"
   ]
  },
  {
   "cell_type": "markdown",
   "metadata": {},
   "source": [
    "### Research Question 2  (Which are the top ten directors with highest average movie ratings?)\n",
    "In this section I will calculate the average movie rating of directors who have produced more than 6 films and find the top 10 directors.\n",
    "\n",
    "The average movie rating will be calculated by calculating the average of each director's film's \"vote_average\".\n",
    "\n",
    "1. In the first step I will find out the directors who have produced more than 6 movies.\n",
    "2. Then I will use the groupby() function to calculate the average rating of each director's movies.\n",
    "3. In the third step I will use the join() function to get the average rating of directors who have produced more than 6 movies.\n",
    "4. Then I will use the sort_values() function to sort the average rating and select the top 10."
   ]
  },
  {
   "cell_type": "code",
   "execution_count": 24,
   "metadata": {},
   "outputs": [
    {
     "data": {
      "text/html": [
       "<div>\n",
       "<style scoped>\n",
       "    .dataframe tbody tr th:only-of-type {\n",
       "        vertical-align: middle;\n",
       "    }\n",
       "\n",
       "    .dataframe tbody tr th {\n",
       "        vertical-align: top;\n",
       "    }\n",
       "\n",
       "    .dataframe thead th {\n",
       "        text-align: right;\n",
       "    }\n",
       "</style>\n",
       "<table border=\"1\" class=\"dataframe\">\n",
       "  <thead>\n",
       "    <tr style=\"text-align: right;\">\n",
       "      <th></th>\n",
       "      <th>film_counts</th>\n",
       "    </tr>\n",
       "  </thead>\n",
       "  <tbody>\n",
       "    <tr>\n",
       "      <th>Steven Spielberg</th>\n",
       "      <td>27</td>\n",
       "    </tr>\n",
       "    <tr>\n",
       "      <th>Clint Eastwood</th>\n",
       "      <td>24</td>\n",
       "    </tr>\n",
       "    <tr>\n",
       "      <th>Ridley Scott</th>\n",
       "      <td>21</td>\n",
       "    </tr>\n",
       "    <tr>\n",
       "      <th>Woody Allen</th>\n",
       "      <td>18</td>\n",
       "    </tr>\n",
       "    <tr>\n",
       "      <th>Steven Soderbergh</th>\n",
       "      <td>17</td>\n",
       "    </tr>\n",
       "  </tbody>\n",
       "</table>\n",
       "</div>"
      ],
      "text/plain": [
       "                   film_counts\n",
       "Steven Spielberg            27\n",
       "Clint Eastwood              24\n",
       "Ridley Scott                21\n",
       "Woody Allen                 18\n",
       "Steven Soderbergh           17"
      ]
     },
     "execution_count": 24,
     "metadata": {},
     "output_type": "execute_result"
    }
   ],
   "source": [
    "# create one copy of the dataframe\n",
    "df_director = df.copy()\n",
    "\n",
    "# counting the number of films made by each director\n",
    "counts = df_director[\"director\"].value_counts()\n",
    "\n",
    "# make a DataFrame of directors who have made more than six films\n",
    "diectors_6 = pd.DataFrame(counts[counts > 6])\n",
    "diectors_6.rename(columns={\"director\":\"film_counts\"},inplace=True)\n",
    "\n",
    "# view dataset\n",
    "diectors_6.head(5)"
   ]
  },
  {
   "cell_type": "code",
   "execution_count": 25,
   "metadata": {},
   "outputs": [
    {
     "data": {
      "text/html": [
       "<div>\n",
       "<style scoped>\n",
       "    .dataframe tbody tr th:only-of-type {\n",
       "        vertical-align: middle;\n",
       "    }\n",
       "\n",
       "    .dataframe tbody tr th {\n",
       "        vertical-align: top;\n",
       "    }\n",
       "\n",
       "    .dataframe thead th {\n",
       "        text-align: right;\n",
       "    }\n",
       "</style>\n",
       "<table border=\"1\" class=\"dataframe\">\n",
       "  <thead>\n",
       "    <tr style=\"text-align: right;\">\n",
       "      <th></th>\n",
       "      <th>vote_average_mean</th>\n",
       "    </tr>\n",
       "    <tr>\n",
       "      <th>director</th>\n",
       "      <th></th>\n",
       "    </tr>\n",
       "  </thead>\n",
       "  <tbody>\n",
       "    <tr>\n",
       "      <th>FrÃ©dÃ©ric Jardin</th>\n",
       "      <td>5.9</td>\n",
       "    </tr>\n",
       "    <tr>\n",
       "      <th>A.R. Murugadoss</th>\n",
       "      <td>6.9</td>\n",
       "    </tr>\n",
       "    <tr>\n",
       "      <th>Aaron Blaise|Robert Walker</th>\n",
       "      <td>6.8</td>\n",
       "    </tr>\n",
       "    <tr>\n",
       "      <th>Aaron Norris</th>\n",
       "      <td>4.7</td>\n",
       "    </tr>\n",
       "    <tr>\n",
       "      <th>Aaron Seltzer|Jason Friedberg</th>\n",
       "      <td>3.9</td>\n",
       "    </tr>\n",
       "  </tbody>\n",
       "</table>\n",
       "</div>"
      ],
      "text/plain": [
       "                               vote_average_mean\n",
       "director                                        \n",
       " FrÃ©dÃ©ric Jardin                           5.9\n",
       "A.R. Murugadoss                              6.9\n",
       "Aaron Blaise|Robert Walker                   6.8\n",
       "Aaron Norris                                 4.7\n",
       "Aaron Seltzer|Jason Friedberg                3.9"
      ]
     },
     "execution_count": 25,
     "metadata": {},
     "output_type": "execute_result"
    }
   ],
   "source": [
    "# calculate the average of the \"vote_average\" of each director\n",
    "vote_mean = pd.DataFrame(df_director.groupby(\"director\")[\"vote_average\"].mean())\n",
    "vote_mean.rename(columns={\"vote_average\":\"vote_average_mean\"},inplace=True)\n",
    "# view dataset\n",
    "vote_mean.head(5)"
   ]
  },
  {
   "cell_type": "code",
   "execution_count": 26,
   "metadata": {},
   "outputs": [],
   "source": [
    "#default left join\n",
    "result = diectors_6.join(vote_mean)\n",
    "# Sorted by the value of \"vote_average_mean\"\n",
    "result.sort_values(\"vote_average_mean\",ascending=False,inplace=True)\n",
    "result[\"vote_average_mean\"]=result[\"vote_average_mean\"].round(2) "
   ]
  },
  {
   "cell_type": "code",
   "execution_count": 27,
   "metadata": {},
   "outputs": [],
   "source": [
    "# select top ten directors with more than five films in terms of average rating\n",
    "result_10 = result.iloc[0:9]\n",
    "# Add the number of movies the director has made into the index.\n",
    "result_10.index = result_10.index +\"(\"+result_10[\"film_counts\"].apply(str)+\")\""
   ]
  },
  {
   "cell_type": "code",
   "execution_count": 28,
   "metadata": {},
   "outputs": [
    {
     "data": {
      "image/png": "[encoded data removed]",
      "text/plain": [
       "<Figure size 1080x720 with 1 Axes>"
      ]
     },
     "metadata": {},
     "output_type": "display_data"
    }
   ],
   "source": [
    "plt.figure(figsize=(15, 10))\n",
    "sns.set_style(\"darkgrid\")\n",
    "color_1=sns.light_palette((210, 90, 60), input=\"husl\",n_colors=10,reverse=True)\n",
    "di = sns.barplot(x= result_10.vote_average_mean, y= result_10.index, orient= \"h\",palette=color_1)\n",
    "di.set_title(\"Top Ten Directors with More than Six Movies in Terms of Average Rating\",fontsize=20)\n",
    "plt.xticks(fontsize=15)\n",
    "plt.yticks(fontsize=15)\n",
    "di.set_xlabel(\"Average rating\",fontsize=15)\n",
    "di.set_ylabel(\"Director(Number of movies)\",fontsize=15);"
   ]
  },
  {
   "cell_type": "markdown",
   "metadata": {},
   "source": [
    "### Research Question 3  (Is there a positive correlation between \"popularity\" and \"vote_average\"?)\n",
    "In this section I will check whether there is a positive correlation between the Popularity and vote columns in the data."
   ]
  },
  {
   "cell_type": "code",
   "execution_count": 29,
   "metadata": {},
   "outputs": [
    {
     "data": {
      "image/png": "[encoded data removed]",
      "text/plain": [
       "<Figure size 1080x720 with 1 Axes>"
      ]
     },
     "metadata": {},
     "output_type": "display_data"
    }
   ],
   "source": [
    "\n",
    "plt.figure(figsize=(15, 10))\n",
    "sns.set_style(\"darkgrid\")\n",
    "p_vote = sns.regplot(x=df[\"popularity\"],y=df[\"vote_average\"],scatter_kws={\"color\": \"lightsalmon\"}, line_kws={\"color\": \"blue\"})\n",
    "p_vote.set_title(\"Popularity and Average Votes\",fontsize=20)\n",
    "plt.xticks(fontsize=15)\n",
    "plt.yticks(fontsize=15)\n",
    "p_vote.set_xlabel(\"Popularity\",fontsize=15)\n",
    "p_vote.set_ylabel(\"Average Votes\",fontsize=15);\n"
   ]
  },
  {
   "cell_type": "code",
   "execution_count": 30,
   "metadata": {},
   "outputs": [
    {
     "name": "stdout",
     "output_type": "stream",
     "text": [
      "Correlation Between Popularity And Profit :  0.31781058868995554\n"
     ]
    }
   ],
   "source": [
    "print(\"Correlation Between Popularity And Profit : \",df.corr().loc[\"popularity\",\"vote_average\"])"
   ]
  },
  {
   "cell_type": "markdown",
   "metadata": {},
   "source": [
    "### Research Question 4  (What is the year-by-year trend of movie profits?)\n",
    "The final two columns ending with “_adj” show the budget and revenue of the associated movie in terms of 2010 dollars, accounting for inflation over time.\n",
    "\n",
    "In this section, I will calculate the average profit of the top 5 highest-profits movies each year. And use this as a benchmark to see the trend of movie earnings.\n",
    "\n",
    "1. In the first step, I will create a profit column.The profit will calculated with the following formula : profit = revenue_adj - budget_adj\n",
    "2. Then I will use the groupby() function to group the movies by their release year and use the sort_values() function to sort the profit column.\n",
    "3. Based on the ranking, I will select the top five movies in terms of profit per year and calculate the average profit per year.\n"
   ]
  },
  {
   "cell_type": "code",
   "execution_count": 31,
   "metadata": {},
   "outputs": [
    {
     "data": {
      "text/html": [
       "<div>\n",
       "<style scoped>\n",
       "    .dataframe tbody tr th:only-of-type {\n",
       "        vertical-align: middle;\n",
       "    }\n",
       "\n",
       "    .dataframe tbody tr th {\n",
       "        vertical-align: top;\n",
       "    }\n",
       "\n",
       "    .dataframe thead th {\n",
       "        text-align: right;\n",
       "    }\n",
       "</style>\n",
       "<table border=\"1\" class=\"dataframe\">\n",
       "  <thead>\n",
       "    <tr style=\"text-align: right;\">\n",
       "      <th></th>\n",
       "      <th>popularity</th>\n",
       "      <th>budget</th>\n",
       "      <th>revenue</th>\n",
       "      <th>original_title</th>\n",
       "      <th>director</th>\n",
       "      <th>runtime</th>\n",
       "      <th>genres</th>\n",
       "      <th>release_date</th>\n",
       "      <th>vote_average</th>\n",
       "      <th>release_year</th>\n",
       "      <th>budget_adj</th>\n",
       "      <th>revenue_adj</th>\n",
       "      <th>profit</th>\n",
       "    </tr>\n",
       "  </thead>\n",
       "  <tbody>\n",
       "    <tr>\n",
       "      <th>0</th>\n",
       "      <td>32.985763</td>\n",
       "      <td>150000000</td>\n",
       "      <td>1513528810</td>\n",
       "      <td>Jurassic World</td>\n",
       "      <td>Colin Trevorrow</td>\n",
       "      <td>124</td>\n",
       "      <td>Action|Adventure|Science Fiction|Thriller</td>\n",
       "      <td>2015-06-09</td>\n",
       "      <td>6.5</td>\n",
       "      <td>2015</td>\n",
       "      <td>137999939</td>\n",
       "      <td>1392445892</td>\n",
       "      <td>1254445953</td>\n",
       "    </tr>\n",
       "    <tr>\n",
       "      <th>1</th>\n",
       "      <td>28.419936</td>\n",
       "      <td>150000000</td>\n",
       "      <td>378436354</td>\n",
       "      <td>Mad Max: Fury Road</td>\n",
       "      <td>George Miller</td>\n",
       "      <td>120</td>\n",
       "      <td>Action|Adventure|Science Fiction|Thriller</td>\n",
       "      <td>2015-05-13</td>\n",
       "      <td>7.1</td>\n",
       "      <td>2015</td>\n",
       "      <td>137999939</td>\n",
       "      <td>348161292</td>\n",
       "      <td>210161353</td>\n",
       "    </tr>\n",
       "    <tr>\n",
       "      <th>2</th>\n",
       "      <td>13.112507</td>\n",
       "      <td>110000000</td>\n",
       "      <td>295238201</td>\n",
       "      <td>Insurgent</td>\n",
       "      <td>Robert Schwentke</td>\n",
       "      <td>119</td>\n",
       "      <td>Adventure|Science Fiction|Thriller</td>\n",
       "      <td>2015-03-18</td>\n",
       "      <td>6.3</td>\n",
       "      <td>2015</td>\n",
       "      <td>101199955</td>\n",
       "      <td>271619025</td>\n",
       "      <td>170419070</td>\n",
       "    </tr>\n",
       "    <tr>\n",
       "      <th>3</th>\n",
       "      <td>11.173104</td>\n",
       "      <td>200000000</td>\n",
       "      <td>2068178225</td>\n",
       "      <td>Star Wars: The Force Awakens</td>\n",
       "      <td>J.J. Abrams</td>\n",
       "      <td>136</td>\n",
       "      <td>Action|Adventure|Science Fiction|Fantasy</td>\n",
       "      <td>2015-12-15</td>\n",
       "      <td>7.5</td>\n",
       "      <td>2015</td>\n",
       "      <td>183999919</td>\n",
       "      <td>1902723129</td>\n",
       "      <td>1718723210</td>\n",
       "    </tr>\n",
       "    <tr>\n",
       "      <th>4</th>\n",
       "      <td>9.335014</td>\n",
       "      <td>190000000</td>\n",
       "      <td>1506249360</td>\n",
       "      <td>Furious 7</td>\n",
       "      <td>James Wan</td>\n",
       "      <td>137</td>\n",
       "      <td>Action|Crime|Thriller</td>\n",
       "      <td>2015-04-01</td>\n",
       "      <td>7.3</td>\n",
       "      <td>2015</td>\n",
       "      <td>174799923</td>\n",
       "      <td>1385748801</td>\n",
       "      <td>1210948878</td>\n",
       "    </tr>\n",
       "  </tbody>\n",
       "</table>\n",
       "</div>"
      ],
      "text/plain": [
       "   popularity     budget     revenue                original_title  \\\n",
       "0   32.985763  150000000  1513528810                Jurassic World   \n",
       "1   28.419936  150000000   378436354            Mad Max: Fury Road   \n",
       "2   13.112507  110000000   295238201                     Insurgent   \n",
       "3   11.173104  200000000  2068178225  Star Wars: The Force Awakens   \n",
       "4    9.335014  190000000  1506249360                     Furious 7   \n",
       "\n",
       "           director  runtime                                     genres  \\\n",
       "0   Colin Trevorrow      124  Action|Adventure|Science Fiction|Thriller   \n",
       "1     George Miller      120  Action|Adventure|Science Fiction|Thriller   \n",
       "2  Robert Schwentke      119         Adventure|Science Fiction|Thriller   \n",
       "3       J.J. Abrams      136   Action|Adventure|Science Fiction|Fantasy   \n",
       "4         James Wan      137                      Action|Crime|Thriller   \n",
       "\n",
       "  release_date  vote_average  release_year  budget_adj  revenue_adj  \\\n",
       "0   2015-06-09           6.5          2015   137999939   1392445892   \n",
       "1   2015-05-13           7.1          2015   137999939    348161292   \n",
       "2   2015-03-18           6.3          2015   101199955    271619025   \n",
       "3   2015-12-15           7.5          2015   183999919   1902723129   \n",
       "4   2015-04-01           7.3          2015   174799923   1385748801   \n",
       "\n",
       "       profit  \n",
       "0  1254445953  \n",
       "1   210161353  \n",
       "2   170419070  \n",
       "3  1718723210  \n",
       "4  1210948878  "
      ]
     },
     "execution_count": 31,
     "metadata": {},
     "output_type": "execute_result"
    }
   ],
   "source": [
    "# create one copy of the dataframe\n",
    "df_profit = df.copy()\n",
    "\n",
    "df_profit['profit'] = df_profit['revenue_adj'] - df_profit['budget_adj']\n",
    "df_profit.head(5)"
   ]
  },
  {
   "cell_type": "code",
   "execution_count": 32,
   "metadata": {},
   "outputs": [],
   "source": [
    "df_year_profit = df_profit.groupby('release_year').apply(lambda x: x.sort_values('profit', ascending=False)[0:5])\n",
    "\n",
    "# Since an index with the same name as \"release_year\" will be generated here, \n",
    "# which will have an impact on our later calculations, \n",
    "# so I changed the name of the \"release_year\" column in the original list to \"year\".\n",
    "df_year_profit.rename(columns={\"release_year\":\"year\"},inplace=True)"
   ]
  },
  {
   "cell_type": "code",
   "execution_count": 33,
   "metadata": {},
   "outputs": [
    {
     "data": {
      "text/html": [
       "<div>\n",
       "<style scoped>\n",
       "    .dataframe tbody tr th:only-of-type {\n",
       "        vertical-align: middle;\n",
       "    }\n",
       "\n",
       "    .dataframe tbody tr th {\n",
       "        vertical-align: top;\n",
       "    }\n",
       "\n",
       "    .dataframe thead th {\n",
       "        text-align: right;\n",
       "    }\n",
       "</style>\n",
       "<table border=\"1\" class=\"dataframe\">\n",
       "  <thead>\n",
       "    <tr style=\"text-align: right;\">\n",
       "      <th></th>\n",
       "      <th></th>\n",
       "      <th>popularity</th>\n",
       "      <th>budget</th>\n",
       "      <th>revenue</th>\n",
       "      <th>original_title</th>\n",
       "      <th>director</th>\n",
       "      <th>runtime</th>\n",
       "      <th>genres</th>\n",
       "      <th>release_date</th>\n",
       "      <th>vote_average</th>\n",
       "      <th>year</th>\n",
       "      <th>budget_adj</th>\n",
       "      <th>revenue_adj</th>\n",
       "      <th>profit</th>\n",
       "    </tr>\n",
       "    <tr>\n",
       "      <th>release_year</th>\n",
       "      <th></th>\n",
       "      <th></th>\n",
       "      <th></th>\n",
       "      <th></th>\n",
       "      <th></th>\n",
       "      <th></th>\n",
       "      <th></th>\n",
       "      <th></th>\n",
       "      <th></th>\n",
       "      <th></th>\n",
       "      <th></th>\n",
       "      <th></th>\n",
       "      <th></th>\n",
       "      <th></th>\n",
       "    </tr>\n",
       "  </thead>\n",
       "  <tbody>\n",
       "    <tr>\n",
       "      <th rowspan=\"5\" valign=\"top\">1960</th>\n",
       "      <th>10143</th>\n",
       "      <td>1.136943</td>\n",
       "      <td>12000000</td>\n",
       "      <td>60000000</td>\n",
       "      <td>Spartacus</td>\n",
       "      <td>Stanley Kubrick</td>\n",
       "      <td>197</td>\n",
       "      <td>Action|Drama|History</td>\n",
       "      <td>2060-10-06</td>\n",
       "      <td>6.9</td>\n",
       "      <td>1960</td>\n",
       "      <td>88475609</td>\n",
       "      <td>442378047</td>\n",
       "      <td>353902438</td>\n",
       "    </tr>\n",
       "    <tr>\n",
       "      <th>10141</th>\n",
       "      <td>2.610362</td>\n",
       "      <td>806948</td>\n",
       "      <td>32000000</td>\n",
       "      <td>Psycho</td>\n",
       "      <td>Alfred Hitchcock</td>\n",
       "      <td>109</td>\n",
       "      <td>Drama|Horror|Thriller</td>\n",
       "      <td>2060-08-14</td>\n",
       "      <td>8.0</td>\n",
       "      <td>1960</td>\n",
       "      <td>5949601</td>\n",
       "      <td>235934958</td>\n",
       "      <td>229985357</td>\n",
       "    </tr>\n",
       "    <tr>\n",
       "      <th>10144</th>\n",
       "      <td>0.947307</td>\n",
       "      <td>3000000</td>\n",
       "      <td>25000000</td>\n",
       "      <td>The Apartment</td>\n",
       "      <td>Billy Wilder</td>\n",
       "      <td>125</td>\n",
       "      <td>Comedy|Drama|Romance</td>\n",
       "      <td>2060-06-15</td>\n",
       "      <td>7.9</td>\n",
       "      <td>1960</td>\n",
       "      <td>22118902</td>\n",
       "      <td>184324186</td>\n",
       "      <td>162205284</td>\n",
       "    </tr>\n",
       "    <tr>\n",
       "      <th>10170</th>\n",
       "      <td>0.055821</td>\n",
       "      <td>3000000</td>\n",
       "      <td>7100000</td>\n",
       "      <td>Cinderfella</td>\n",
       "      <td>Frank Tashlin</td>\n",
       "      <td>91</td>\n",
       "      <td>Comedy|Romance</td>\n",
       "      <td>2060-12-18</td>\n",
       "      <td>7.2</td>\n",
       "      <td>1960</td>\n",
       "      <td>22118902</td>\n",
       "      <td>52348068</td>\n",
       "      <td>30229166</td>\n",
       "    </tr>\n",
       "    <tr>\n",
       "      <th>10142</th>\n",
       "      <td>1.872132</td>\n",
       "      <td>2000000</td>\n",
       "      <td>4905000</td>\n",
       "      <td>The Magnificent Seven</td>\n",
       "      <td>John Sturges</td>\n",
       "      <td>128</td>\n",
       "      <td>Action|Adventure|Western</td>\n",
       "      <td>2060-10-23</td>\n",
       "      <td>7.0</td>\n",
       "      <td>1960</td>\n",
       "      <td>14745934</td>\n",
       "      <td>36164405</td>\n",
       "      <td>21418471</td>\n",
       "    </tr>\n",
       "    <tr>\n",
       "      <th rowspan=\"5\" valign=\"top\">1961</th>\n",
       "      <th>10110</th>\n",
       "      <td>2.631987</td>\n",
       "      <td>4000000</td>\n",
       "      <td>215880014</td>\n",
       "      <td>One Hundred and One Dalmatians</td>\n",
       "      <td>Clyde Geronimi|Hamilton Luske|Wolfgang Reitherman</td>\n",
       "      <td>79</td>\n",
       "      <td>Adventure|Animation|Comedy|Family</td>\n",
       "      <td>2061-01-25</td>\n",
       "      <td>6.6</td>\n",
       "      <td>1961</td>\n",
       "      <td>29179444</td>\n",
       "      <td>1574814739</td>\n",
       "      <td>1545635295</td>\n",
       "    </tr>\n",
       "    <tr>\n",
       "      <th>10112</th>\n",
       "      <td>0.900245</td>\n",
       "      <td>6000000</td>\n",
       "      <td>43656822</td>\n",
       "      <td>West Side Story</td>\n",
       "      <td>Jerome Robbins|Robert Wise</td>\n",
       "      <td>152</td>\n",
       "      <td>Music|Crime|Drama</td>\n",
       "      <td>2061-10-18</td>\n",
       "      <td>6.6</td>\n",
       "      <td>1961</td>\n",
       "      <td>43769167</td>\n",
       "      <td>318470457</td>\n",
       "      <td>274701290</td>\n",
       "    </tr>\n",
       "    <tr>\n",
       "      <th>10113</th>\n",
       "      <td>0.754548</td>\n",
       "      <td>6000000</td>\n",
       "      <td>28900000</td>\n",
       "      <td>The Guns of Navarone</td>\n",
       "      <td>J. Lee Thompson|Alexander Mackendrick</td>\n",
       "      <td>158</td>\n",
       "      <td>Action|Adventure|Drama|War</td>\n",
       "      <td>2061-04-27</td>\n",
       "      <td>7.0</td>\n",
       "      <td>1961</td>\n",
       "      <td>43769167</td>\n",
       "      <td>210821488</td>\n",
       "      <td>167052321</td>\n",
       "    </tr>\n",
       "    <tr>\n",
       "      <th>10121</th>\n",
       "      <td>0.282665</td>\n",
       "      <td>5037000</td>\n",
       "      <td>14483352</td>\n",
       "      <td>King of Kings</td>\n",
       "      <td>Nicholas Ray</td>\n",
       "      <td>168</td>\n",
       "      <td>Drama</td>\n",
       "      <td>2061-10-11</td>\n",
       "      <td>5.9</td>\n",
       "      <td>1961</td>\n",
       "      <td>36744215</td>\n",
       "      <td>105654042</td>\n",
       "      <td>68909827</td>\n",
       "    </tr>\n",
       "    <tr>\n",
       "      <th>10115</th>\n",
       "      <td>0.538364</td>\n",
       "      <td>3000000</td>\n",
       "      <td>10000000</td>\n",
       "      <td>Judgment at Nuremberg</td>\n",
       "      <td>Stanley Kramer</td>\n",
       "      <td>186</td>\n",
       "      <td>Drama|History</td>\n",
       "      <td>2061-12-01</td>\n",
       "      <td>6.7</td>\n",
       "      <td>1961</td>\n",
       "      <td>21884583</td>\n",
       "      <td>72948612</td>\n",
       "      <td>51064029</td>\n",
       "    </tr>\n",
       "  </tbody>\n",
       "</table>\n",
       "</div>"
      ],
      "text/plain": [
       "                    popularity    budget    revenue  \\\n",
       "release_year                                          \n",
       "1960         10143    1.136943  12000000   60000000   \n",
       "             10141    2.610362    806948   32000000   \n",
       "             10144    0.947307   3000000   25000000   \n",
       "             10170    0.055821   3000000    7100000   \n",
       "             10142    1.872132   2000000    4905000   \n",
       "1961         10110    2.631987   4000000  215880014   \n",
       "             10112    0.900245   6000000   43656822   \n",
       "             10113    0.754548   6000000   28900000   \n",
       "             10121    0.282665   5037000   14483352   \n",
       "             10115    0.538364   3000000   10000000   \n",
       "\n",
       "                                    original_title  \\\n",
       "release_year                                         \n",
       "1960         10143                       Spartacus   \n",
       "             10141                          Psycho   \n",
       "             10144                   The Apartment   \n",
       "             10170                     Cinderfella   \n",
       "             10142           The Magnificent Seven   \n",
       "1961         10110  One Hundred and One Dalmatians   \n",
       "             10112                 West Side Story   \n",
       "             10113            The Guns of Navarone   \n",
       "             10121                   King of Kings   \n",
       "             10115           Judgment at Nuremberg   \n",
       "\n",
       "                                                             director  \\\n",
       "release_year                                                            \n",
       "1960         10143                                    Stanley Kubrick   \n",
       "             10141                                   Alfred Hitchcock   \n",
       "             10144                                       Billy Wilder   \n",
       "             10170                                      Frank Tashlin   \n",
       "             10142                                       John Sturges   \n",
       "1961         10110  Clyde Geronimi|Hamilton Luske|Wolfgang Reitherman   \n",
       "             10112                         Jerome Robbins|Robert Wise   \n",
       "             10113              J. Lee Thompson|Alexander Mackendrick   \n",
       "             10121                                       Nicholas Ray   \n",
       "             10115                                     Stanley Kramer   \n",
       "\n",
       "                    runtime                             genres release_date  \\\n",
       "release_year                                                                  \n",
       "1960         10143      197               Action|Drama|History   2060-10-06   \n",
       "             10141      109              Drama|Horror|Thriller   2060-08-14   \n",
       "             10144      125               Comedy|Drama|Romance   2060-06-15   \n",
       "             10170       91                     Comedy|Romance   2060-12-18   \n",
       "             10142      128           Action|Adventure|Western   2060-10-23   \n",
       "1961         10110       79  Adventure|Animation|Comedy|Family   2061-01-25   \n",
       "             10112      152                  Music|Crime|Drama   2061-10-18   \n",
       "             10113      158         Action|Adventure|Drama|War   2061-04-27   \n",
       "             10121      168                              Drama   2061-10-11   \n",
       "             10115      186                      Drama|History   2061-12-01   \n",
       "\n",
       "                    vote_average  year  budget_adj  revenue_adj      profit  \n",
       "release_year                                                                 \n",
       "1960         10143           6.9  1960    88475609    442378047   353902438  \n",
       "             10141           8.0  1960     5949601    235934958   229985357  \n",
       "             10144           7.9  1960    22118902    184324186   162205284  \n",
       "             10170           7.2  1960    22118902     52348068    30229166  \n",
       "             10142           7.0  1960    14745934     36164405    21418471  \n",
       "1961         10110           6.6  1961    29179444   1574814739  1545635295  \n",
       "             10112           6.6  1961    43769167    318470457   274701290  \n",
       "             10113           7.0  1961    43769167    210821488   167052321  \n",
       "             10121           5.9  1961    36744215    105654042    68909827  \n",
       "             10115           6.7  1961    21884583     72948612    51064029  "
      ]
     },
     "execution_count": 33,
     "metadata": {},
     "output_type": "execute_result"
    }
   ],
   "source": [
    "df_year_profit.head(10)"
   ]
  },
  {
   "cell_type": "code",
   "execution_count": 34,
   "metadata": {},
   "outputs": [],
   "source": [
    "df_m = df_year_profit.groupby('release_year')[\"profit\"].mean()"
   ]
  },
  {
   "cell_type": "code",
   "execution_count": 35,
   "metadata": {},
   "outputs": [
    {
     "data": {
      "image/png": "[encoded data removed]",
      "text/plain": [
       "<Figure size 1080x720 with 1 Axes>"
      ]
     },
     "metadata": {},
     "output_type": "display_data"
    }
   ],
   "source": [
    "\n",
    "plt.figure(figsize=(15, 10))\n",
    "sns.set_style(\"darkgrid\")\n",
    "p_y = sns.lineplot(x= df_m.index, y= df_m, markers=\"o\")\n",
    "p_y.set_title(\" Year-by-year Trend of Movie Profits\",fontsize=20)\n",
    "p_y.set_xlabel(\"Year\",fontsize=18)\n",
    "plt.xticks(fontsize=15)\n",
    "plt.yticks(fontsize=15)\n",
    "p_y.set_ylabel(\"Average Profit\",fontsize=18);"
   ]
  },
  {
   "cell_type": "markdown",
   "metadata": {},
   "source": [
    "### Research Question 5  (Which month has the highest average revenue?)\n",
    "In this part, I will calculate the average revenue of movies released in each month to find the month with the highest average revenue.\n",
    "1. In the first step I will create a new month column\n",
    "2. Then I will use the groupby function to calculate the average revenue for each month"
   ]
  },
  {
   "cell_type": "code",
   "execution_count": 36,
   "metadata": {},
   "outputs": [
    {
     "data": {
      "text/html": [
       "<div>\n",
       "<style scoped>\n",
       "    .dataframe tbody tr th:only-of-type {\n",
       "        vertical-align: middle;\n",
       "    }\n",
       "\n",
       "    .dataframe tbody tr th {\n",
       "        vertical-align: top;\n",
       "    }\n",
       "\n",
       "    .dataframe thead th {\n",
       "        text-align: right;\n",
       "    }\n",
       "</style>\n",
       "<table border=\"1\" class=\"dataframe\">\n",
       "  <thead>\n",
       "    <tr style=\"text-align: right;\">\n",
       "      <th></th>\n",
       "      <th>popularity</th>\n",
       "      <th>budget</th>\n",
       "      <th>revenue</th>\n",
       "      <th>original_title</th>\n",
       "      <th>director</th>\n",
       "      <th>runtime</th>\n",
       "      <th>genres</th>\n",
       "      <th>release_date</th>\n",
       "      <th>vote_average</th>\n",
       "      <th>release_year</th>\n",
       "      <th>budget_adj</th>\n",
       "      <th>revenue_adj</th>\n",
       "      <th>month</th>\n",
       "    </tr>\n",
       "  </thead>\n",
       "  <tbody>\n",
       "    <tr>\n",
       "      <th>0</th>\n",
       "      <td>32.985763</td>\n",
       "      <td>150000000</td>\n",
       "      <td>1513528810</td>\n",
       "      <td>Jurassic World</td>\n",
       "      <td>Colin Trevorrow</td>\n",
       "      <td>124</td>\n",
       "      <td>Action|Adventure|Science Fiction|Thriller</td>\n",
       "      <td>2015-06-09</td>\n",
       "      <td>6.5</td>\n",
       "      <td>2015</td>\n",
       "      <td>137999939</td>\n",
       "      <td>1392445892</td>\n",
       "      <td>6</td>\n",
       "    </tr>\n",
       "    <tr>\n",
       "      <th>1</th>\n",
       "      <td>28.419936</td>\n",
       "      <td>150000000</td>\n",
       "      <td>378436354</td>\n",
       "      <td>Mad Max: Fury Road</td>\n",
       "      <td>George Miller</td>\n",
       "      <td>120</td>\n",
       "      <td>Action|Adventure|Science Fiction|Thriller</td>\n",
       "      <td>2015-05-13</td>\n",
       "      <td>7.1</td>\n",
       "      <td>2015</td>\n",
       "      <td>137999939</td>\n",
       "      <td>348161292</td>\n",
       "      <td>5</td>\n",
       "    </tr>\n",
       "    <tr>\n",
       "      <th>2</th>\n",
       "      <td>13.112507</td>\n",
       "      <td>110000000</td>\n",
       "      <td>295238201</td>\n",
       "      <td>Insurgent</td>\n",
       "      <td>Robert Schwentke</td>\n",
       "      <td>119</td>\n",
       "      <td>Adventure|Science Fiction|Thriller</td>\n",
       "      <td>2015-03-18</td>\n",
       "      <td>6.3</td>\n",
       "      <td>2015</td>\n",
       "      <td>101199955</td>\n",
       "      <td>271619025</td>\n",
       "      <td>3</td>\n",
       "    </tr>\n",
       "    <tr>\n",
       "      <th>3</th>\n",
       "      <td>11.173104</td>\n",
       "      <td>200000000</td>\n",
       "      <td>2068178225</td>\n",
       "      <td>Star Wars: The Force Awakens</td>\n",
       "      <td>J.J. Abrams</td>\n",
       "      <td>136</td>\n",
       "      <td>Action|Adventure|Science Fiction|Fantasy</td>\n",
       "      <td>2015-12-15</td>\n",
       "      <td>7.5</td>\n",
       "      <td>2015</td>\n",
       "      <td>183999919</td>\n",
       "      <td>1902723129</td>\n",
       "      <td>12</td>\n",
       "    </tr>\n",
       "    <tr>\n",
       "      <th>4</th>\n",
       "      <td>9.335014</td>\n",
       "      <td>190000000</td>\n",
       "      <td>1506249360</td>\n",
       "      <td>Furious 7</td>\n",
       "      <td>James Wan</td>\n",
       "      <td>137</td>\n",
       "      <td>Action|Crime|Thriller</td>\n",
       "      <td>2015-04-01</td>\n",
       "      <td>7.3</td>\n",
       "      <td>2015</td>\n",
       "      <td>174799923</td>\n",
       "      <td>1385748801</td>\n",
       "      <td>4</td>\n",
       "    </tr>\n",
       "    <tr>\n",
       "      <th>...</th>\n",
       "      <td>...</td>\n",
       "      <td>...</td>\n",
       "      <td>...</td>\n",
       "      <td>...</td>\n",
       "      <td>...</td>\n",
       "      <td>...</td>\n",
       "      <td>...</td>\n",
       "      <td>...</td>\n",
       "      <td>...</td>\n",
       "      <td>...</td>\n",
       "      <td>...</td>\n",
       "      <td>...</td>\n",
       "      <td>...</td>\n",
       "    </tr>\n",
       "    <tr>\n",
       "      <th>10779</th>\n",
       "      <td>0.411826</td>\n",
       "      <td>12000000</td>\n",
       "      <td>22765081</td>\n",
       "      <td>Convoy</td>\n",
       "      <td>Sam Peckinpah</td>\n",
       "      <td>110</td>\n",
       "      <td>Action|Comedy|Drama</td>\n",
       "      <td>1978-06-27</td>\n",
       "      <td>6.2</td>\n",
       "      <td>1978</td>\n",
       "      <td>40112408</td>\n",
       "      <td>76096852</td>\n",
       "      <td>6</td>\n",
       "    </tr>\n",
       "    <tr>\n",
       "      <th>10780</th>\n",
       "      <td>0.409377</td>\n",
       "      <td>3500000</td>\n",
       "      <td>24046533</td>\n",
       "      <td>Invasion of the Body Snatchers</td>\n",
       "      <td>Philip Kaufman</td>\n",
       "      <td>115</td>\n",
       "      <td>Horror|Thriller|Science Fiction|Mystery</td>\n",
       "      <td>1978-12-19</td>\n",
       "      <td>6.5</td>\n",
       "      <td>1978</td>\n",
       "      <td>11699452</td>\n",
       "      <td>80380362</td>\n",
       "      <td>12</td>\n",
       "    </tr>\n",
       "    <tr>\n",
       "      <th>10788</th>\n",
       "      <td>0.277769</td>\n",
       "      <td>24000000</td>\n",
       "      <td>21049053</td>\n",
       "      <td>The Wiz</td>\n",
       "      <td>Sidney Lumet</td>\n",
       "      <td>134</td>\n",
       "      <td>Adventure|Family|Fantasy|Music|Science Fiction</td>\n",
       "      <td>1978-10-24</td>\n",
       "      <td>6.1</td>\n",
       "      <td>1978</td>\n",
       "      <td>80224816</td>\n",
       "      <td>70360684</td>\n",
       "      <td>10</td>\n",
       "    </tr>\n",
       "    <tr>\n",
       "      <th>10791</th>\n",
       "      <td>0.236193</td>\n",
       "      <td>6800000</td>\n",
       "      <td>26518355</td>\n",
       "      <td>Damien: Omen II</td>\n",
       "      <td>Don Taylor|Mike Hodges</td>\n",
       "      <td>107</td>\n",
       "      <td>Action|Drama|Horror|Thriller</td>\n",
       "      <td>1978-06-09</td>\n",
       "      <td>6.1</td>\n",
       "      <td>1978</td>\n",
       "      <td>22730364</td>\n",
       "      <td>88642923</td>\n",
       "      <td>6</td>\n",
       "    </tr>\n",
       "    <tr>\n",
       "      <th>10793</th>\n",
       "      <td>0.226002</td>\n",
       "      <td>1000000</td>\n",
       "      <td>3713768</td>\n",
       "      <td>Watership Down</td>\n",
       "      <td>Martin Rosen</td>\n",
       "      <td>88</td>\n",
       "      <td>Adventure|Animation|Drama</td>\n",
       "      <td>1978-10-14</td>\n",
       "      <td>6.8</td>\n",
       "      <td>1978</td>\n",
       "      <td>3342700</td>\n",
       "      <td>12414014</td>\n",
       "      <td>10</td>\n",
       "    </tr>\n",
       "  </tbody>\n",
       "</table>\n",
       "<p>3848 rows × 13 columns</p>\n",
       "</div>"
      ],
      "text/plain": [
       "       popularity     budget     revenue                  original_title  \\\n",
       "0       32.985763  150000000  1513528810                  Jurassic World   \n",
       "1       28.419936  150000000   378436354              Mad Max: Fury Road   \n",
       "2       13.112507  110000000   295238201                       Insurgent   \n",
       "3       11.173104  200000000  2068178225    Star Wars: The Force Awakens   \n",
       "4        9.335014  190000000  1506249360                       Furious 7   \n",
       "...           ...        ...         ...                             ...   \n",
       "10779    0.411826   12000000    22765081                          Convoy   \n",
       "10780    0.409377    3500000    24046533  Invasion of the Body Snatchers   \n",
       "10788    0.277769   24000000    21049053                         The Wiz   \n",
       "10791    0.236193    6800000    26518355                 Damien: Omen II   \n",
       "10793    0.226002    1000000     3713768                  Watership Down   \n",
       "\n",
       "                     director  runtime  \\\n",
       "0             Colin Trevorrow      124   \n",
       "1               George Miller      120   \n",
       "2            Robert Schwentke      119   \n",
       "3                 J.J. Abrams      136   \n",
       "4                   James Wan      137   \n",
       "...                       ...      ...   \n",
       "10779           Sam Peckinpah      110   \n",
       "10780          Philip Kaufman      115   \n",
       "10788            Sidney Lumet      134   \n",
       "10791  Don Taylor|Mike Hodges      107   \n",
       "10793            Martin Rosen       88   \n",
       "\n",
       "                                               genres release_date  \\\n",
       "0           Action|Adventure|Science Fiction|Thriller   2015-06-09   \n",
       "1           Action|Adventure|Science Fiction|Thriller   2015-05-13   \n",
       "2                  Adventure|Science Fiction|Thriller   2015-03-18   \n",
       "3            Action|Adventure|Science Fiction|Fantasy   2015-12-15   \n",
       "4                               Action|Crime|Thriller   2015-04-01   \n",
       "...                                               ...          ...   \n",
       "10779                             Action|Comedy|Drama   1978-06-27   \n",
       "10780         Horror|Thriller|Science Fiction|Mystery   1978-12-19   \n",
       "10788  Adventure|Family|Fantasy|Music|Science Fiction   1978-10-24   \n",
       "10791                    Action|Drama|Horror|Thriller   1978-06-09   \n",
       "10793                       Adventure|Animation|Drama   1978-10-14   \n",
       "\n",
       "       vote_average  release_year  budget_adj  revenue_adj  month  \n",
       "0               6.5          2015   137999939   1392445892      6  \n",
       "1               7.1          2015   137999939    348161292      5  \n",
       "2               6.3          2015   101199955    271619025      3  \n",
       "3               7.5          2015   183999919   1902723129     12  \n",
       "4               7.3          2015   174799923   1385748801      4  \n",
       "...             ...           ...         ...          ...    ...  \n",
       "10779           6.2          1978    40112408     76096852      6  \n",
       "10780           6.5          1978    11699452     80380362     12  \n",
       "10788           6.1          1978    80224816     70360684     10  \n",
       "10791           6.1          1978    22730364     88642923      6  \n",
       "10793           6.8          1978     3342700     12414014     10  \n",
       "\n",
       "[3848 rows x 13 columns]"
      ]
     },
     "execution_count": 36,
     "metadata": {},
     "output_type": "execute_result"
    }
   ],
   "source": [
    "# create one copy of the dataframe\n",
    "df_month = df.copy()\n",
    "# create a new column for the month\n",
    "df_month['month'] = df_month['release_date'].apply(lambda x: x.month)\n",
    "\n",
    "df_month.head(-5)"
   ]
  },
  {
   "cell_type": "code",
   "execution_count": 37,
   "metadata": {},
   "outputs": [],
   "source": [
    "df_month_revenue = df_month.groupby(\"month\")[\"revenue_adj\"].mean()"
   ]
  },
  {
   "cell_type": "code",
   "execution_count": 38,
   "metadata": {},
   "outputs": [
    {
     "data": {
      "text/plain": [
       "month\n",
       "1     7.146060e+07\n",
       "2     8.332814e+07\n",
       "3     1.148546e+08\n",
       "4     1.110203e+08\n",
       "5     2.047275e+08\n",
       "6     2.304416e+08\n",
       "7     1.752418e+08\n",
       "8     8.918078e+07\n",
       "9     6.330897e+07\n",
       "10    1.012462e+08\n",
       "11    1.693620e+08\n",
       "12    1.677914e+08\n",
       "Name: revenue_adj, dtype: float64"
      ]
     },
     "execution_count": 38,
     "metadata": {},
     "output_type": "execute_result"
    }
   ],
   "source": [
    "df_month_revenue.sort_index()"
   ]
  },
  {
   "cell_type": "code",
   "execution_count": 39,
   "metadata": {},
   "outputs": [
    {
     "data": {
      "text/plain": [
       "month\n",
       "January      7.146060e+07\n",
       "February     8.332814e+07\n",
       "March        1.148546e+08\n",
       "April        1.110203e+08\n",
       "May          2.047275e+08\n",
       "June         2.304416e+08\n",
       "July         1.752418e+08\n",
       "August       8.918078e+07\n",
       "September    6.330897e+07\n",
       "October      1.012462e+08\n",
       "November     1.693620e+08\n",
       "December     1.677914e+08\n",
       "Name: revenue_adj, dtype: float64"
      ]
     },
     "execution_count": 39,
     "metadata": {},
     "output_type": "execute_result"
    }
   ],
   "source": [
    "df_month_revenue.index = df_month_revenue.index.map(str)\n",
    "df_month_revenue.index = df_month_revenue.index.map({'1':'January', '2':'February','3':'March','4':'April','5':'May','6':'June','7':'July','8':'August','9':'September','10':'October','11':'November','12':'December'})\n",
    "df_month_revenue"
   ]
  },
  {
   "cell_type": "code",
   "execution_count": 40,
   "metadata": {},
   "outputs": [
    {
     "data": {
      "image/png": "[encoded data removed]",
      "text/plain": [
       "<Figure size 1080x720 with 1 Axes>"
      ]
     },
     "metadata": {},
     "output_type": "display_data"
    }
   ],
   "source": [
    "plt.figure(figsize=(15, 10))\n",
    "sns.set_style(\"darkgrid\")\n",
    "sns.barplot(x=df_month_revenue.index,y=df_month_revenue)\n",
    "plt.title(\"Average Revenue in Different Months\",fontsize=20)\n",
    "plt.xlabel(\"Month\",fontsize=18)\n",
    "plt.xticks(fontsize=15)\n",
    "plt.yticks(fontsize=15)\n",
    "plt.ylabel(\"Average Revenue\",fontsize=18);"
   ]
  },
  {
   "cell_type": "markdown",
   "metadata": {},
   "source": [
    "<a id='conclusions'></a>\n",
    "## Conclusions"
   ]
  },
  {
   "cell_type": "markdown",
   "metadata": {},
   "source": [
    "1. we can see that \"Drama\", \"Comedy\", \"Thriller\" genres are the most frequent in the past few years.\n",
    "2. The average rating of these top 10 directors' movies is very similar and all of them are over 7, among which Christopher Nolan's movies have the highest average rating. Among these directors Martin Scorsese has produced the most movies with 17.\n",
    "3. The correlation coefficient takes values from -1 to 1. When close to 1, it indicates a strong positive correlation, when close to -1, when close to -1, it indicates a strong negative correlation, and if the value is close to 0, it indicates a very low correlation. Using the corr function, we calculate the correlation between popularity and profit is about 0.32, which indicates a very low correlation.\n",
    "4. It can be seen that the average movie profit is showing a gradual increasing trend.\n",
    "5. According to the average revenue of each month, it can be found that May, June have the highest."
   ]
  },
  {
   "cell_type": "code",
   "execution_count": 41,
   "metadata": {},
   "outputs": [
    {
     "data": {
      "text/plain": [
       "1"
      ]
     },
     "execution_count": 41,
     "metadata": {},
     "output_type": "execute_result"
    }
   ],
   "source": [
    "from subprocess import call\n",
    "call(['python', '-m', 'nbconvert', 'Investigate_a_Dataset.ipynb'])"
   ]
  }
 ],
 "metadata": {
  "kernelspec": {
   "display_name": "Python 3",
   "language": "python",
   "name": "python3"
  },
  "language_info": {
   "codemirror_mode": {
    "name": "ipython",
    "version": 3
   },
   "file_extension": ".py",
   "mimetype": "text/x-python",
   "name": "python",
   "nbconvert_exporter": "python",
   "pygments_lexer": "ipython3",
   "version": "3.8.8"
  }
 },
 "nbformat": 4,
 "nbformat_minor": 2
}
